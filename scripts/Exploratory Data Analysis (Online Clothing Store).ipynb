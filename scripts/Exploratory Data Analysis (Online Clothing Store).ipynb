{
 "cells": [
  {
   "cell_type": "markdown",
   "id": "15b16738-7324-4723-8966-b2472f00f5d6",
   "metadata": {},
   "source": [
    "# Exploratory Data Analysis (Online Clothing Store)"
   ]
  },
  {
   "cell_type": "markdown",
   "id": "640d8bf5-ed1d-4179-86b2-e1be9129c861",
   "metadata": {},
   "source": [
    "## Import & Load Data"
   ]
  },
  {
   "cell_type": "code",
   "execution_count": 26,
   "id": "9f07c9c0-e65f-4620-b322-0aee47de5b18",
   "metadata": {},
   "outputs": [],
   "source": [
    "# Importing libraries\n",
    "import numpy as np\n",
    "import pandas as pd"
   ]
  },
  {
   "cell_type": "code",
   "execution_count": 4,
   "id": "e6e866d1-9e54-4e6d-9a05-ada19c753a16",
   "metadata": {},
   "outputs": [],
   "source": [
    "# File path\n",
    "file_path = \"C:/Users/HP/Desktop/My Data Science Journey/Python/Portfolio Project/Why did sales drop/dataset/clothing_sales_jan_jun_2024.xlsx\"\n",
    "\n",
    "# load data from excel\n",
    "df = pd.read_excel(file_path)\n",
    "\n",
    "# Make copy of dataset\n",
    "df_clothing_sales = df.copy()"
   ]
  },
  {
   "cell_type": "code",
   "execution_count": 5,
   "id": "770e37f9-90f7-4040-8d67-7eb694d968de",
   "metadata": {},
   "outputs": [
    {
     "data": {
      "text/html": [
       "<div>\n",
       "<style scoped>\n",
       "    .dataframe tbody tr th:only-of-type {\n",
       "        vertical-align: middle;\n",
       "    }\n",
       "\n",
       "    .dataframe tbody tr th {\n",
       "        vertical-align: top;\n",
       "    }\n",
       "\n",
       "    .dataframe thead th {\n",
       "        text-align: right;\n",
       "    }\n",
       "</style>\n",
       "<table border=\"1\" class=\"dataframe\">\n",
       "  <thead>\n",
       "    <tr style=\"text-align: right;\">\n",
       "      <th></th>\n",
       "      <th>Date</th>\n",
       "      <th>Region</th>\n",
       "      <th>Category</th>\n",
       "      <th>Subcategory</th>\n",
       "      <th>Customer_Type</th>\n",
       "      <th>Units_Sold</th>\n",
       "      <th>Unit_Price</th>\n",
       "      <th>Discount</th>\n",
       "      <th>Sales (USD)</th>\n",
       "    </tr>\n",
       "  </thead>\n",
       "  <tbody>\n",
       "    <tr>\n",
       "      <th>0</th>\n",
       "      <td>2024-01-01</td>\n",
       "      <td>West</td>\n",
       "      <td>Handwear</td>\n",
       "      <td>Gloves</td>\n",
       "      <td>Returning</td>\n",
       "      <td>1</td>\n",
       "      <td>18.95</td>\n",
       "      <td>0.04</td>\n",
       "      <td>18.11</td>\n",
       "    </tr>\n",
       "    <tr>\n",
       "      <th>1</th>\n",
       "      <td>2024-01-01</td>\n",
       "      <td>East</td>\n",
       "      <td>Legwear</td>\n",
       "      <td>Trousers</td>\n",
       "      <td>Returning</td>\n",
       "      <td>4</td>\n",
       "      <td>28.57</td>\n",
       "      <td>0.07</td>\n",
       "      <td>106.85</td>\n",
       "    </tr>\n",
       "    <tr>\n",
       "      <th>2</th>\n",
       "      <td>2024-01-01</td>\n",
       "      <td>North</td>\n",
       "      <td>Bodywear</td>\n",
       "      <td>Jacket</td>\n",
       "      <td>New</td>\n",
       "      <td>4</td>\n",
       "      <td>99.53</td>\n",
       "      <td>0.06</td>\n",
       "      <td>373.55</td>\n",
       "    </tr>\n",
       "    <tr>\n",
       "      <th>3</th>\n",
       "      <td>2024-01-01</td>\n",
       "      <td>South</td>\n",
       "      <td>Handwear</td>\n",
       "      <td>Wristband</td>\n",
       "      <td>New</td>\n",
       "      <td>3</td>\n",
       "      <td>11.12</td>\n",
       "      <td>0.01</td>\n",
       "      <td>32.89</td>\n",
       "    </tr>\n",
       "    <tr>\n",
       "      <th>4</th>\n",
       "      <td>2024-01-01</td>\n",
       "      <td>West</td>\n",
       "      <td>Footwear</td>\n",
       "      <td>Boots</td>\n",
       "      <td>Returning</td>\n",
       "      <td>3</td>\n",
       "      <td>115.65</td>\n",
       "      <td>0.04</td>\n",
       "      <td>333.69</td>\n",
       "    </tr>\n",
       "  </tbody>\n",
       "</table>\n",
       "</div>"
      ],
      "text/plain": [
       "        Date Region  Category Subcategory Customer_Type  Units_Sold  \\\n",
       "0 2024-01-01   West  Handwear      Gloves     Returning           1   \n",
       "1 2024-01-01   East   Legwear    Trousers     Returning           4   \n",
       "2 2024-01-01  North  Bodywear      Jacket           New           4   \n",
       "3 2024-01-01  South  Handwear   Wristband           New           3   \n",
       "4 2024-01-01   West  Footwear       Boots     Returning           3   \n",
       "\n",
       "   Unit_Price  Discount  Sales (USD)  \n",
       "0       18.95      0.04        18.11  \n",
       "1       28.57      0.07       106.85  \n",
       "2       99.53      0.06       373.55  \n",
       "3       11.12      0.01        32.89  \n",
       "4      115.65      0.04       333.69  "
      ]
     },
     "execution_count": 5,
     "metadata": {},
     "output_type": "execute_result"
    }
   ],
   "source": [
    "# check 1st 5 rows\n",
    "df_clothing_sales.head()"
   ]
  },
  {
   "cell_type": "markdown",
   "id": "b60d798a-b05b-40df-8540-5eaf55ef01fb",
   "metadata": {},
   "source": [
    "### Basic Data Inspection \n",
    "\n",
    "Before any visualizations or statistical analysis, I'll first check: <br>\n",
    "\n",
    "1. The shape of the dataset (rows × columns)\n",
    "2. Data types of each column\n",
    "3. . Any missing values?"
   ]
  },
  {
   "cell_type": "code",
   "execution_count": 8,
   "id": "1e85282e-6727-4152-b73b-be5d9daf2f26",
   "metadata": {},
   "outputs": [
    {
     "name": "stdout",
     "output_type": "stream",
     "text": [
      "Shape of dataset: (6648, 9)\n",
      "\n",
      "Data types:\n",
      "Date             datetime64[ns]\n",
      "Region                   object\n",
      "Category                 object\n",
      "Subcategory              object\n",
      "Customer_Type            object\n",
      "Units_Sold                int64\n",
      "Unit_Price              float64\n",
      "Discount                float64\n",
      "Sales (USD)             float64\n",
      "dtype: object\n",
      "\n",
      "Missing values:\n",
      "Date             0\n",
      "Region           0\n",
      "Category         0\n",
      "Subcategory      0\n",
      "Customer_Type    0\n",
      "Units_Sold       0\n",
      "Unit_Price       0\n",
      "Discount         0\n",
      "Sales (USD)      0\n",
      "dtype: int64\n"
     ]
    }
   ],
   "source": [
    "# Basic data inspection\n",
    "\n",
    "# 1. Shape of the dataset\n",
    "print(\"Shape of dataset:\", df_clothing_sales.shape)\n",
    "\n",
    "# 2. Data types\n",
    "print(\"\\nData types:\")\n",
    "print(df_clothing_sales.dtypes)\n",
    "\n",
    "# 3. Missing values\n",
    "print(\"\\nMissing values:\")\n",
    "print(df_clothing_sales.isnull().sum())"
   ]
  },
  {
   "cell_type": "markdown",
   "id": "561c78fc-2d1c-4450-9551-764352331340",
   "metadata": {},
   "source": [
    "__________________________________\n",
    "## Summary Statistics"
   ]
  },
  {
   "cell_type": "markdown",
   "id": "403faf8c-ae20-4aef-834f-076bc12b0c3c",
   "metadata": {},
   "source": [
    "Here, I’ll:\n",
    "\n",
    "1. Check numeric summaries — especially Unit_Price, Discount, Units_Sold, and Sales (USD).\n",
    "2. Check the total sum of Sales (USD), Discount, Units_Sold.\n",
    "3. Explore categorical distributions — like counts of Region, Customer_Type, Category, etc.\n",
    "\n",
    "I'm doing all these to understand central tendencies, spread, and any obvious outliers or patterns in the data."
   ]
  },
  {
   "cell_type": "code",
   "execution_count": 15,
   "id": "8aab5347-0033-46c2-b8f7-c1b3da754526",
   "metadata": {},
   "outputs": [
    {
     "data": {
      "text/html": [
       "<div>\n",
       "<style scoped>\n",
       "    .dataframe tbody tr th:only-of-type {\n",
       "        vertical-align: middle;\n",
       "    }\n",
       "\n",
       "    .dataframe tbody tr th {\n",
       "        vertical-align: top;\n",
       "    }\n",
       "\n",
       "    .dataframe thead th {\n",
       "        text-align: right;\n",
       "    }\n",
       "</style>\n",
       "<table border=\"1\" class=\"dataframe\">\n",
       "  <thead>\n",
       "    <tr style=\"text-align: right;\">\n",
       "      <th></th>\n",
       "      <th>count</th>\n",
       "      <th>mean</th>\n",
       "      <th>std</th>\n",
       "      <th>min</th>\n",
       "      <th>25%</th>\n",
       "      <th>50%</th>\n",
       "      <th>75%</th>\n",
       "      <th>max</th>\n",
       "    </tr>\n",
       "  </thead>\n",
       "  <tbody>\n",
       "    <tr>\n",
       "      <th>Units_Sold</th>\n",
       "      <td>6648.0</td>\n",
       "      <td>2.500752</td>\n",
       "      <td>1.110286</td>\n",
       "      <td>1.00</td>\n",
       "      <td>2.00</td>\n",
       "      <td>3.000</td>\n",
       "      <td>3.0000</td>\n",
       "      <td>4.00</td>\n",
       "    </tr>\n",
       "    <tr>\n",
       "      <th>Unit_Price</th>\n",
       "      <td>6648.0</td>\n",
       "      <td>37.490871</td>\n",
       "      <td>30.048882</td>\n",
       "      <td>5.00</td>\n",
       "      <td>14.73</td>\n",
       "      <td>27.450</td>\n",
       "      <td>49.3625</td>\n",
       "      <td>149.94</td>\n",
       "    </tr>\n",
       "    <tr>\n",
       "      <th>Discount</th>\n",
       "      <td>6648.0</td>\n",
       "      <td>0.082393</td>\n",
       "      <td>0.056312</td>\n",
       "      <td>0.00</td>\n",
       "      <td>0.05</td>\n",
       "      <td>0.080</td>\n",
       "      <td>0.1100</td>\n",
       "      <td>0.30</td>\n",
       "    </tr>\n",
       "    <tr>\n",
       "      <th>Sales (USD)</th>\n",
       "      <td>6648.0</td>\n",
       "      <td>85.926232</td>\n",
       "      <td>84.544534</td>\n",
       "      <td>3.87</td>\n",
       "      <td>29.38</td>\n",
       "      <td>55.845</td>\n",
       "      <td>111.6700</td>\n",
       "      <td>580.19</td>\n",
       "    </tr>\n",
       "  </tbody>\n",
       "</table>\n",
       "</div>"
      ],
      "text/plain": [
       "              count       mean        std   min    25%     50%       75%  \\\n",
       "Units_Sold   6648.0   2.500752   1.110286  1.00   2.00   3.000    3.0000   \n",
       "Unit_Price   6648.0  37.490871  30.048882  5.00  14.73  27.450   49.3625   \n",
       "Discount     6648.0   0.082393   0.056312  0.00   0.05   0.080    0.1100   \n",
       "Sales (USD)  6648.0  85.926232  84.544534  3.87  29.38  55.845  111.6700   \n",
       "\n",
       "                max  \n",
       "Units_Sold     4.00  \n",
       "Unit_Price   149.94  \n",
       "Discount       0.30  \n",
       "Sales (USD)  580.19  "
      ]
     },
     "execution_count": 15,
     "metadata": {},
     "output_type": "execute_result"
    }
   ],
   "source": [
    "# Summary statistics for numeric columns\n",
    "df_clothing_sales.select_dtypes(include=['int64', 'float64']).describe().T"
   ]
  },
  {
   "cell_type": "code",
   "execution_count": 30,
   "id": "681e1c34-b4ae-49e4-bb51-07748c901714",
   "metadata": {},
   "outputs": [
    {
     "data": {
      "text/plain": [
       "Sales (USD)    571237.59\n",
       "Discount          547.75\n",
       "Units_Sold      16625.00\n",
       "dtype: float64"
      ]
     },
     "execution_count": 30,
     "metadata": {},
     "output_type": "execute_result"
    }
   ],
   "source": [
    "# Total sum of Sales (USD), Discount, Units_Sold\n",
    "total_sum = df[['Sales (USD)', 'Discount', 'Units_Sold']].sum()\n",
    "total_sum"
   ]
  },
  {
   "cell_type": "code",
   "execution_count": 31,
   "id": "26bdf2dd-6679-4d42-a427-28b3707caccb",
   "metadata": {},
   "outputs": [
    {
     "data": {
      "text/plain": [
       "50811.513300000006"
      ]
     },
     "execution_count": 31,
     "metadata": {},
     "output_type": "execute_result"
    }
   ],
   "source": [
    "# Total sum of Discount given out in dollars\n",
    "discount_dollars = (df['Unit_Price'] * df['Units_Sold'] * df['Discount']).sum()\n",
    "discount_dollars"
   ]
  },
  {
   "attachments": {},
   "cell_type": "markdown",
   "id": "e0a9119c-ba7e-467f-82ea-139a4373ef62",
   "metadata": {},
   "source": [
    "______________________________\n",
    "#### Summary Statistics Interpretation (Jan–Jun 2024 Sales Data)\n",
    "\r\n",
    "Between January and June 202,a total unit of **16,625** was sold. The average person  bought **2 to 3 clothing items per order**. Most people didn’t buy more than four items at once\n",
    "\n",
    "\n",
    "The **average price** of an item was around **37 dollars**, but prices varied quite a bit — from as low as **5 dollars** (for simple items like caps or socks) to about **150 dollars** (likely more premium items like jackets or branded sneakers). This variety suggests the store sells both budget and mid-range fashion\n",
    "\n",
    "The **total discount** given was **547.75** having a worth of **850,811.51 dollars**. \n",
    "On average,most  customers received about an **8% discount** on their purchases, with some getting up to **30% off**, probably during sales or special promotions in months like April\n",
    "\n",
    "The **total** sales from January to June  was about **571,237.59 dollars**. While **sales** for  each transaction brought in about **86 dollars on average**, though it ranged widely, **smaller purchases** were **under 10 dollars**, while some larger orders went **over 500 dollars**.\r\n"
   ]
  },
  {
   "cell_type": "markdown",
   "id": "437a234e-af8d-40c8-b271-300b3107f251",
   "metadata": {},
   "source": [
    "____________________\n",
    "## Frequency counts for categorical columns"
   ]
  },
  {
   "cell_type": "code",
   "execution_count": 22,
   "id": "7d6b47e6-166d-4f52-a429-83633088d900",
   "metadata": {},
   "outputs": [
    {
     "name": "stdout",
     "output_type": "stream",
     "text": [
      "\n",
      "Category Counts:\n",
      "Category\n",
      "Headwear    1364\n",
      "Bodywear    1350\n",
      "Legwear     1331\n",
      "Handwear    1318\n",
      "Footwear    1285\n",
      "Name: count, dtype: int64\n"
     ]
    }
   ],
   "source": [
    "# Frequency count for category\n",
    "print(\"\\nCategory Counts:\")\n",
    "print(df_clothing_sales['Category'].value_counts())"
   ]
  },
  {
   "cell_type": "code",
   "execution_count": 23,
   "id": "325af4c3-8997-4aae-8e80-a08bdc3505c0",
   "metadata": {},
   "outputs": [
    {
     "name": "stdout",
     "output_type": "stream",
     "text": [
      "\n",
      "Subcategory Counts:\n",
      "Subcategory\n",
      "Wristband    673\n",
      "Gloves       645\n",
      "Headband     486\n",
      "Jacket       469\n",
      "Jeans        454\n",
      "Sweater      453\n",
      "Shorts       446\n",
      "Hat          445\n",
      "Sneakers     443\n",
      "Cap          433\n",
      "Trousers     431\n",
      "T-shirt      428\n",
      "Sandals      427\n",
      "Boots        415\n",
      "Name: count, dtype: int64\n"
     ]
    }
   ],
   "source": [
    "# Frequency count for Subcategory\n",
    "print(\"\\nSubcategory Counts:\")\n",
    "print(df_clothing_sales['Subcategory'].value_counts())"
   ]
  },
  {
   "cell_type": "code",
   "execution_count": 24,
   "id": "d8640e87-7d55-4bcb-b3f2-a127ed543cb5",
   "metadata": {},
   "outputs": [
    {
     "name": "stdout",
     "output_type": "stream",
     "text": [
      "\n",
      "Customer Type Counts:\n",
      "Customer_Type\n",
      "Returning    4605\n",
      "New          2043\n",
      "Name: count, dtype: int64\n"
     ]
    }
   ],
   "source": [
    "# Frequency count for Customer Type\n",
    "print(\"\\nCustomer Type Counts:\")\n",
    "print(df_clothing_sales['Customer_Type'].value_counts())\n"
   ]
  },
  {
   "cell_type": "code",
   "execution_count": 25,
   "id": "97095467-acb0-434a-bcf3-9a251197fdf8",
   "metadata": {},
   "outputs": [
    {
     "name": "stdout",
     "output_type": "stream",
     "text": [
      "\n",
      "Region Counts:\n",
      "Region\n",
      "North    1756\n",
      "West     1668\n",
      "East     1623\n",
      "South    1601\n",
      "Name: count, dtype: int64\n"
     ]
    }
   ],
   "source": [
    "# Frequency count for Region\n",
    "print(\"\\nRegion Counts:\")\n",
    "print(df_clothing_sales['Region'].value_counts())"
   ]
  },
  {
   "cell_type": "markdown",
   "id": "c4112db4-8ea2-422e-9066-a2bede9dc020",
   "metadata": {},
   "source": [
    "________________________________\n",
    "#### Categorical Counts Interpretation\n",
    "\n",
    "From January to June 2024, the online clothing store saw a fairly balanced number of purchases across different types of clothing. Headwear like hats and caps was the most commonly bought category, followed closely by items like bodywear (e.g., T-shirts and jackets), legwear, and so on. This shows that customers shop across all categories and not just one type of clothing.\n",
    "\n",
    "Looking into specific products, wristbands and gloves were the most frequently purchased items. These are probably affordable accessories that customers like to add to their orders. On the other hand, larger items like boots and jackets were still bought regularly, but just not as often.\n",
    "\n",
    "Looking at who is shopping, about 7 out of every 10 purchases came from returning customers, showing that people like the store enough to come back. At the same time, new customers made up a healthy share, which is a good sign that the store is still attracting fresh interest.\n",
    "\n",
    "Finally, in terms of where customers are coming from, sales were spread quite evenly across all four regions: North, West, East, and South. The North had the most orders, but not by a big margin. This shows that the store likely has good reach and consistent service across regions."
   ]
  },
  {
   "cell_type": "markdown",
   "id": "c4974391-05c2-45ee-9d76-786689626c02",
   "metadata": {},
   "source": [
    "_________________________________________\n",
    "## Visualization\n",
    "I'll begin by exploring the following:\n",
    "\n",
    "1. Sales by Product Category – Which categories generate the most revenue?\n",
    "2. Units Sold by Region – Which region buys more in terms of volume?\n",
    "3. Average Discount by Customer Type – Are discounts skewed toward new or returning customers?\n",
    "\n",
    "These will help uncover initial patterns about what, where, and to whom the business sells"
   ]
  },
  {
   "cell_type": "code",
   "execution_count": 32,
   "id": "cf2fe758-85b9-4b56-8245-992d78826f85",
   "metadata": {},
   "outputs": [],
   "source": [
    "# import visualization libraries\n",
    "import seaborn as sns\n",
    "import matplotlib.pyplot as plt\n",
    "\n",
    "# Set visual style\n",
    "sns.set(style=\"whitegrid\")"
   ]
  },
  {
   "cell_type": "code",
   "execution_count": 38,
   "id": "990f5b25-aa88-43fe-ac8f-f21c2ae9f3b6",
   "metadata": {},
   "outputs": [
    {
     "data": {
      "image/png": "[encoded data removed]",
      "text/plain": [
       "<Figure size 800x500 with 1 Axes>"
      ]
     },
     "metadata": {},
     "output_type": "display_data"
    }
   ],
   "source": [
    "# Total Sales by Category\n",
    "category_sales = df.groupby('Category')['Sales (USD)'].sum().sort_values(ascending=False)\n",
    "\n",
    "plt.figure(figsize=(8, 5))\n",
    "ax = sns.barplot(x=category_sales.values, y=category_sales.index, palette=\"viridis\")\n",
    "\n",
    "# Add value labels to each bar\n",
    "for i, value in enumerate(category_sales.values):\n",
    "    ax.text(value + 0.01 * max(category_sales),  # x-position (slightly offset from bar)\n",
    "            i,                                   # y-position (aligned with bar)\n",
    "            f'${value:,.0f}',                   # Format with commas and dollar sign\n",
    "            ha='left', va='center',              # Alignment\n",
    "            fontsize=10)\n",
    "\n",
    "plt.title(\"Total Sales by Product Category\", fontsize=14)\n",
    "plt.xlabel(\"Total Sales (USD)\")\n",
    "plt.ylabel(\"Category\")\n",
    "plt.tight_layout()\n",
    "plt.show()"
   ]
  },
  {
   "cell_type": "markdown",
   "id": "491710c1-7962-4140-8f67-4120de3cf3d0",
   "metadata": {},
   "source": [
    "________________________\n",
    "Footware category had was the highest with a total sale of 225,488 dollars; followed by Bodyware 141,455 dollars, Legware, 113,266 dollars.\n",
    "Head and hand wear had a total sale of 49,485 dollars and 41,544 dollars respectively. \n",
    "\n",
    "To investigate what really drove the high sales in Footwear, I’ll look at:\n",
    "\n",
    "1. Total Units Sold by Category – To see if high sales came from high volume.\n",
    "2. Average Unit Price by Category – To see if prices are higher in Footwear.\n",
    "3. Total Discount Given by Category – To see if generous discounts drove demand."
   ]
  },
  {
   "cell_type": "code",
   "execution_count": 44,
   "id": "e6183d22-9199-45e2-a716-45518c890d86",
   "metadata": {},
   "outputs": [
    {
     "data": {
      "image/png": "[encoded data removed]",
      "text/plain": [
       "<Figure size 800x500 with 1 Axes>"
      ]
     },
     "metadata": {},
     "output_type": "display_data"
    }
   ],
   "source": [
    "# Total Units Sold by Category – To see if high sales came from high volume.\n",
    "category_units = df.groupby('Category')['Units_Sold'].sum().sort_values(ascending=False)\n",
    "\n",
    "plt.figure(figsize=(8, 5))\n",
    "bx = sns.barplot(x=category_units.values, y=category_units.index, palette=\"viridis\")\n",
    "\n",
    "# Add value labels to each bar\n",
    "for i, value in enumerate(category_units.values):\n",
    "    bx.text(value + 0.01 * max(category_units),  # x-position (slightly offset from bar)\n",
    "            i,                                   # y-position (aligned with bar)\n",
    "            f'{value:,.0f}',                   # Format with commas\n",
    "            ha='left', va='center',              # Alignment\n",
    "            fontsize=10)\n",
    "\n",
    "plt.title(\"Total Units Sold by Product Category\", fontsize=14)\n",
    "plt.xlabel(\"Units Sold\")\n",
    "plt.ylabel(\"Category\")\n",
    "plt.tight_layout()\n",
    "plt.show()"
   ]
  },
  {
   "cell_type": "code",
   "execution_count": 45,
   "id": "28c100c1-cfa1-4a8c-8b03-ebc38282df47",
   "metadata": {},
   "outputs": [
    {
     "data": {
      "text/plain": [
       "Category\n",
       "Headwear    3450\n",
       "Bodywear    3325\n",
       "Legwear     3293\n",
       "Handwear    3279\n",
       "Footwear    3278\n",
       "Name: Units_Sold, dtype: int64"
      ]
     },
     "execution_count": 45,
     "metadata": {},
     "output_type": "execute_result"
    }
   ],
   "source": [
    "df.groupby('Category')['Units_Sold'].sum().sort_values(ascending=False)"
   ]
  },
  {
   "cell_type": "markdown",
   "id": "8916a3e5-ac39-4654-bd4e-a02c78e361c0",
   "metadata": {},
   "source": [
    "__________________________________\n",
    "Even though Footwear had the highest total sales (over $225,000), it actually had the lowest number of units sold, just 3,278 units, slightly below Handwear. Meanwhile, categories like Headwear sold the most units (3,450), followed by Bodywear (3,325) and Legwear (3,293).\n",
    "\n",
    "**This means Footwear isn’t the top seller because of high volume, it’s likely because footwear items are more expensive on average.**"
   ]
  },
  {
   "cell_type": "code",
   "execution_count": 50,
   "id": "d6bc121f-b4ef-4346-b034-0fd350fdc726",
   "metadata": {},
   "outputs": [
    {
     "data": {
      "text/plain": [
       "Category\n",
       "Footwear    74.990\n",
       "Bodywear    47.450\n",
       "Legwear     36.230\n",
       "Headwear    14.805\n",
       "Handwear    13.080\n",
       "Name: Unit_Price, dtype: float64"
      ]
     },
     "execution_count": 50,
     "metadata": {},
     "output_type": "execute_result"
    }
   ],
   "source": [
    "df.groupby('Category')['Unit_Price'].median().sort_values(ascending=False)"
   ]
  },
  {
   "cell_type": "code",
   "execution_count": 54,
   "id": "087b5884-c089-430a-9032-f21dfc5e8f34",
   "metadata": {},
   "outputs": [
    {
     "data": {
      "image/png": "[encoded data removed]",
      "text/plain": [
       "<Figure size 800x500 with 1 Axes>"
      ]
     },
     "metadata": {},
     "output_type": "display_data"
    }
   ],
   "source": [
    "# Average Unit Price by Category\n",
    "median_price = df.groupby('Category')['Unit_Price'].median().sort_values(ascending=False)\n",
    "\n",
    "plt.figure(figsize=(8, 5))\n",
    "cx = sns.barplot(x=median_price.values, y=median_price.index, palette=\"viridis\")\n",
    "\n",
    "# Add value labels to each bar\n",
    "for i, value in enumerate(median_price.values):\n",
    "    cx.text(value + 0.01 * max(median_price),  # x-position (slightly offset from bar)\n",
    "            i,                                   # y-position (aligned with bar)\n",
    "            f'${value:,.0f}',                   # Format with commas\n",
    "            ha='left', va='center',              # Alignment\n",
    "            fontsize=10)\n",
    "    \n",
    "sns.barplot(x=median_price.values, y=median_price.index, palette=\"crest\")\n",
    "plt.title(\"Median Unit Price by Category\", fontsize=14)\n",
    "plt.xlabel(\"Median Price (USD)\")\n",
    "plt.ylabel(\"Category\")\n",
    "plt.tight_layout()\n",
    "plt.show()"
   ]
  },
  {
   "cell_type": "markdown",
   "id": "c054496f-9516-4fac-bd55-e1c4c53db299",
   "metadata": {},
   "source": [
    "\n",
    "**Based on the bar chart, Footwear is the top seller because its median price is higher than other categories.**"
   ]
  },
  {
   "cell_type": "code",
   "execution_count": 59,
   "id": "5f866de7-9a3f-4e37-a754-cff038e1857c",
   "metadata": {},
   "outputs": [
    {
     "data": {
      "text/plain": [
       "Category\n",
       "Footwear    0.08\n",
       "Handwear    0.08\n",
       "Headwear    0.08\n",
       "Bodywear    0.07\n",
       "Legwear     0.07\n",
       "Name: Discount, dtype: float64"
      ]
     },
     "execution_count": 59,
     "metadata": {},
     "output_type": "execute_result"
    }
   ],
   "source": [
    "# Total Discount by Category\n",
    "df.groupby('Category')['Discount'].median().sort_values(ascending=False)"
   ]
  },
  {
   "cell_type": "markdown",
   "id": "0806604d-be2c-4b3a-b27a-c3a7e588f234",
   "metadata": {},
   "source": [
    "Footwear didn’t receive significantly more discount overall compared to other categories.\n",
    "\n",
    "This suggests high sales in Footwear are driven more by higher prices rather than heavier discounting. And thesame is true for other categories\n",
    "\n",
    "The small difference between categories (0.07 vs 0.08) indicates discounts are relatively consistent across product types."
   ]
  },
  {
   "cell_type": "code",
   "execution_count": null,
   "id": "cf8e7219-ec7c-4a45-9d68-04a91ae724b3",
   "metadata": {},
   "outputs": [],
   "source": []
  }
 ],
 "metadata": {
  "kernelspec": {
   "display_name": "Python 3 (ipykernel)",
   "language": "python",
   "name": "python3"
  },
  "language_info": {
   "codemirror_mode": {
    "name": "ipython",
    "version": 3
   },
   "file_extension": ".py",
   "mimetype": "text/x-python",
   "name": "python",
   "nbconvert_exporter": "python",
   "pygments_lexer": "ipython3",
   "version": "3.11.7"
  }
 },
 "nbformat": 4,
 "nbformat_minor": 5
}
